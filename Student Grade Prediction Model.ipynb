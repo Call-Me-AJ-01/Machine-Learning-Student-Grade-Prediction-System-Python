{
 "cells": [
  {
   "cell_type": "code",
   "execution_count": 1,
   "metadata": {},
   "outputs": [],
   "source": [
    "import pandas as pd\n",
    "import numpy as np\n",
    "import seaborn as sns\n",
    "import matplotlib.pyplot as plt\n",
    "from joblib import dump"
   ]
  },
  {
   "cell_type": "code",
   "execution_count": 2,
   "metadata": {},
   "outputs": [
    {
     "data": {
      "text/html": [
       "<div>\n",
       "<style scoped>\n",
       "    .dataframe tbody tr th:only-of-type {\n",
       "        vertical-align: middle;\n",
       "    }\n",
       "\n",
       "    .dataframe tbody tr th {\n",
       "        vertical-align: top;\n",
       "    }\n",
       "\n",
       "    .dataframe thead th {\n",
       "        text-align: right;\n",
       "    }\n",
       "</style>\n",
       "<table border=\"1\" class=\"dataframe\">\n",
       "  <thead>\n",
       "    <tr style=\"text-align: right;\">\n",
       "      <th></th>\n",
       "      <th>gender</th>\n",
       "      <th>race/ethnicity</th>\n",
       "      <th>parental level of education</th>\n",
       "      <th>lunch</th>\n",
       "      <th>test preparation course</th>\n",
       "      <th>math score</th>\n",
       "      <th>reading score</th>\n",
       "      <th>writing score</th>\n",
       "      <th>Grade</th>\n",
       "    </tr>\n",
       "  </thead>\n",
       "  <tbody>\n",
       "    <tr>\n",
       "      <th>0</th>\n",
       "      <td>female</td>\n",
       "      <td>group B</td>\n",
       "      <td>bachelor's degree</td>\n",
       "      <td>standard</td>\n",
       "      <td>none</td>\n",
       "      <td>72</td>\n",
       "      <td>72</td>\n",
       "      <td>74</td>\n",
       "      <td>A</td>\n",
       "    </tr>\n",
       "    <tr>\n",
       "      <th>1</th>\n",
       "      <td>female</td>\n",
       "      <td>group C</td>\n",
       "      <td>some college</td>\n",
       "      <td>standard</td>\n",
       "      <td>completed</td>\n",
       "      <td>69</td>\n",
       "      <td>90</td>\n",
       "      <td>88</td>\n",
       "      <td>A+</td>\n",
       "    </tr>\n",
       "    <tr>\n",
       "      <th>2</th>\n",
       "      <td>female</td>\n",
       "      <td>group B</td>\n",
       "      <td>master's degree</td>\n",
       "      <td>standard</td>\n",
       "      <td>none</td>\n",
       "      <td>90</td>\n",
       "      <td>95</td>\n",
       "      <td>93</td>\n",
       "      <td>O</td>\n",
       "    </tr>\n",
       "    <tr>\n",
       "      <th>3</th>\n",
       "      <td>male</td>\n",
       "      <td>group A</td>\n",
       "      <td>associate's degree</td>\n",
       "      <td>free/reduced</td>\n",
       "      <td>none</td>\n",
       "      <td>47</td>\n",
       "      <td>57</td>\n",
       "      <td>44</td>\n",
       "      <td>Re-Appear</td>\n",
       "    </tr>\n",
       "    <tr>\n",
       "      <th>4</th>\n",
       "      <td>male</td>\n",
       "      <td>group C</td>\n",
       "      <td>some college</td>\n",
       "      <td>standard</td>\n",
       "      <td>none</td>\n",
       "      <td>76</td>\n",
       "      <td>78</td>\n",
       "      <td>75</td>\n",
       "      <td>A</td>\n",
       "    </tr>\n",
       "    <tr>\n",
       "      <th>...</th>\n",
       "      <td>...</td>\n",
       "      <td>...</td>\n",
       "      <td>...</td>\n",
       "      <td>...</td>\n",
       "      <td>...</td>\n",
       "      <td>...</td>\n",
       "      <td>...</td>\n",
       "      <td>...</td>\n",
       "      <td>...</td>\n",
       "    </tr>\n",
       "    <tr>\n",
       "      <th>995</th>\n",
       "      <td>female</td>\n",
       "      <td>group E</td>\n",
       "      <td>master's degree</td>\n",
       "      <td>standard</td>\n",
       "      <td>completed</td>\n",
       "      <td>88</td>\n",
       "      <td>99</td>\n",
       "      <td>95</td>\n",
       "      <td>O</td>\n",
       "    </tr>\n",
       "    <tr>\n",
       "      <th>996</th>\n",
       "      <td>male</td>\n",
       "      <td>group C</td>\n",
       "      <td>high school</td>\n",
       "      <td>free/reduced</td>\n",
       "      <td>none</td>\n",
       "      <td>62</td>\n",
       "      <td>55</td>\n",
       "      <td>55</td>\n",
       "      <td>B</td>\n",
       "    </tr>\n",
       "    <tr>\n",
       "      <th>997</th>\n",
       "      <td>female</td>\n",
       "      <td>group C</td>\n",
       "      <td>high school</td>\n",
       "      <td>free/reduced</td>\n",
       "      <td>completed</td>\n",
       "      <td>59</td>\n",
       "      <td>71</td>\n",
       "      <td>65</td>\n",
       "      <td>B+</td>\n",
       "    </tr>\n",
       "    <tr>\n",
       "      <th>998</th>\n",
       "      <td>female</td>\n",
       "      <td>group D</td>\n",
       "      <td>some college</td>\n",
       "      <td>standard</td>\n",
       "      <td>completed</td>\n",
       "      <td>68</td>\n",
       "      <td>78</td>\n",
       "      <td>77</td>\n",
       "      <td>A</td>\n",
       "    </tr>\n",
       "    <tr>\n",
       "      <th>999</th>\n",
       "      <td>female</td>\n",
       "      <td>group D</td>\n",
       "      <td>some college</td>\n",
       "      <td>free/reduced</td>\n",
       "      <td>none</td>\n",
       "      <td>77</td>\n",
       "      <td>86</td>\n",
       "      <td>86</td>\n",
       "      <td>A+</td>\n",
       "    </tr>\n",
       "  </tbody>\n",
       "</table>\n",
       "<p>1000 rows × 9 columns</p>\n",
       "</div>"
      ],
      "text/plain": [
       "     gender race/ethnicity parental level of education         lunch  \\\n",
       "0    female        group B           bachelor's degree      standard   \n",
       "1    female        group C                some college      standard   \n",
       "2    female        group B             master's degree      standard   \n",
       "3      male        group A          associate's degree  free/reduced   \n",
       "4      male        group C                some college      standard   \n",
       "..      ...            ...                         ...           ...   \n",
       "995  female        group E             master's degree      standard   \n",
       "996    male        group C                 high school  free/reduced   \n",
       "997  female        group C                 high school  free/reduced   \n",
       "998  female        group D                some college      standard   \n",
       "999  female        group D                some college  free/reduced   \n",
       "\n",
       "    test preparation course  math score  reading score  writing score  \\\n",
       "0                      none          72             72             74   \n",
       "1                 completed          69             90             88   \n",
       "2                      none          90             95             93   \n",
       "3                      none          47             57             44   \n",
       "4                      none          76             78             75   \n",
       "..                      ...         ...            ...            ...   \n",
       "995               completed          88             99             95   \n",
       "996                    none          62             55             55   \n",
       "997               completed          59             71             65   \n",
       "998               completed          68             78             77   \n",
       "999                    none          77             86             86   \n",
       "\n",
       "         Grade  \n",
       "0            A  \n",
       "1           A+  \n",
       "2            O  \n",
       "3    Re-Appear  \n",
       "4            A  \n",
       "..         ...  \n",
       "995          O  \n",
       "996          B  \n",
       "997         B+  \n",
       "998          A  \n",
       "999         A+  \n",
       "\n",
       "[1000 rows x 9 columns]"
      ]
     },
     "execution_count": 2,
     "metadata": {},
     "output_type": "execute_result"
    }
   ],
   "source": [
    "data=pd.read_csv('Student Performance.csv')\n",
    "data"
   ]
  },
  {
   "cell_type": "markdown",
   "metadata": {},
   "source": [
    "### Checking For Null Values"
   ]
  },
  {
   "cell_type": "code",
   "execution_count": 3,
   "metadata": {},
   "outputs": [
    {
     "data": {
      "text/plain": [
       "gender                         False\n",
       "race/ethnicity                 False\n",
       "parental level of education    False\n",
       "lunch                          False\n",
       "test preparation course        False\n",
       "math score                     False\n",
       "reading score                  False\n",
       "writing score                  False\n",
       "Grade                          False\n",
       "dtype: bool"
      ]
     },
     "execution_count": 3,
     "metadata": {},
     "output_type": "execute_result"
    }
   ],
   "source": [
    "data.isnull().any()"
   ]
  },
  {
   "cell_type": "markdown",
   "metadata": {},
   "source": [
    "### Checking For Outliers"
   ]
  },
  {
   "cell_type": "code",
   "execution_count": 4,
   "metadata": {},
   "outputs": [
    {
     "data": {
      "text/plain": [
       "<matplotlib.axes._subplots.AxesSubplot at 0x123ee467708>"
      ]
     },
     "execution_count": 4,
     "metadata": {},
     "output_type": "execute_result"
    },
    {
     "data": {
      "image/png": "[encoded data removed]",
      "text/plain": [
       "<Figure size 432x288 with 1 Axes>"
      ]
     },
     "metadata": {
      "needs_background": "light"
     },
     "output_type": "display_data"
    }
   ],
   "source": [
    "sns.boxplot(data['math score'])"
   ]
  },
  {
   "cell_type": "markdown",
   "metadata": {},
   "source": [
    "### Resolving the Outliers"
   ]
  },
  {
   "cell_type": "code",
   "execution_count": 5,
   "metadata": {},
   "outputs": [
    {
     "data": {
      "text/plain": [
       "math score       20.00\n",
       "reading score    20.00\n",
       "writing score    21.25\n",
       "dtype: float64"
      ]
     },
     "execution_count": 5,
     "metadata": {},
     "output_type": "execute_result"
    }
   ],
   "source": [
    "q1 = data.quantile(0.25)\n",
    "q3 = data.quantile(0.75)\n",
    "IQR = q3-q1\n",
    "IQR"
   ]
  },
  {
   "cell_type": "code",
   "execution_count": 6,
   "metadata": {},
   "outputs": [
    {
     "data": {
      "text/html": [
       "<div>\n",
       "<style scoped>\n",
       "    .dataframe tbody tr th:only-of-type {\n",
       "        vertical-align: middle;\n",
       "    }\n",
       "\n",
       "    .dataframe tbody tr th {\n",
       "        vertical-align: top;\n",
       "    }\n",
       "\n",
       "    .dataframe thead th {\n",
       "        text-align: right;\n",
       "    }\n",
       "</style>\n",
       "<table border=\"1\" class=\"dataframe\">\n",
       "  <thead>\n",
       "    <tr style=\"text-align: right;\">\n",
       "      <th></th>\n",
       "      <th>gender</th>\n",
       "      <th>race/ethnicity</th>\n",
       "      <th>parental level of education</th>\n",
       "      <th>lunch</th>\n",
       "      <th>test preparation course</th>\n",
       "      <th>math score</th>\n",
       "      <th>reading score</th>\n",
       "      <th>writing score</th>\n",
       "      <th>Grade</th>\n",
       "    </tr>\n",
       "  </thead>\n",
       "  <tbody>\n",
       "    <tr>\n",
       "      <th>0</th>\n",
       "      <td>female</td>\n",
       "      <td>group B</td>\n",
       "      <td>bachelor's degree</td>\n",
       "      <td>standard</td>\n",
       "      <td>none</td>\n",
       "      <td>72</td>\n",
       "      <td>72</td>\n",
       "      <td>74</td>\n",
       "      <td>A</td>\n",
       "    </tr>\n",
       "    <tr>\n",
       "      <th>1</th>\n",
       "      <td>female</td>\n",
       "      <td>group C</td>\n",
       "      <td>some college</td>\n",
       "      <td>standard</td>\n",
       "      <td>completed</td>\n",
       "      <td>69</td>\n",
       "      <td>90</td>\n",
       "      <td>88</td>\n",
       "      <td>A+</td>\n",
       "    </tr>\n",
       "    <tr>\n",
       "      <th>2</th>\n",
       "      <td>female</td>\n",
       "      <td>group B</td>\n",
       "      <td>master's degree</td>\n",
       "      <td>standard</td>\n",
       "      <td>none</td>\n",
       "      <td>90</td>\n",
       "      <td>95</td>\n",
       "      <td>93</td>\n",
       "      <td>O</td>\n",
       "    </tr>\n",
       "    <tr>\n",
       "      <th>3</th>\n",
       "      <td>male</td>\n",
       "      <td>group A</td>\n",
       "      <td>associate's degree</td>\n",
       "      <td>free/reduced</td>\n",
       "      <td>none</td>\n",
       "      <td>47</td>\n",
       "      <td>57</td>\n",
       "      <td>44</td>\n",
       "      <td>Re-Appear</td>\n",
       "    </tr>\n",
       "    <tr>\n",
       "      <th>4</th>\n",
       "      <td>male</td>\n",
       "      <td>group C</td>\n",
       "      <td>some college</td>\n",
       "      <td>standard</td>\n",
       "      <td>none</td>\n",
       "      <td>76</td>\n",
       "      <td>78</td>\n",
       "      <td>75</td>\n",
       "      <td>A</td>\n",
       "    </tr>\n",
       "    <tr>\n",
       "      <th>...</th>\n",
       "      <td>...</td>\n",
       "      <td>...</td>\n",
       "      <td>...</td>\n",
       "      <td>...</td>\n",
       "      <td>...</td>\n",
       "      <td>...</td>\n",
       "      <td>...</td>\n",
       "      <td>...</td>\n",
       "      <td>...</td>\n",
       "    </tr>\n",
       "    <tr>\n",
       "      <th>995</th>\n",
       "      <td>female</td>\n",
       "      <td>group E</td>\n",
       "      <td>master's degree</td>\n",
       "      <td>standard</td>\n",
       "      <td>completed</td>\n",
       "      <td>88</td>\n",
       "      <td>99</td>\n",
       "      <td>95</td>\n",
       "      <td>O</td>\n",
       "    </tr>\n",
       "    <tr>\n",
       "      <th>996</th>\n",
       "      <td>male</td>\n",
       "      <td>group C</td>\n",
       "      <td>high school</td>\n",
       "      <td>free/reduced</td>\n",
       "      <td>none</td>\n",
       "      <td>62</td>\n",
       "      <td>55</td>\n",
       "      <td>55</td>\n",
       "      <td>B</td>\n",
       "    </tr>\n",
       "    <tr>\n",
       "      <th>997</th>\n",
       "      <td>female</td>\n",
       "      <td>group C</td>\n",
       "      <td>high school</td>\n",
       "      <td>free/reduced</td>\n",
       "      <td>completed</td>\n",
       "      <td>59</td>\n",
       "      <td>71</td>\n",
       "      <td>65</td>\n",
       "      <td>B+</td>\n",
       "    </tr>\n",
       "    <tr>\n",
       "      <th>998</th>\n",
       "      <td>female</td>\n",
       "      <td>group D</td>\n",
       "      <td>some college</td>\n",
       "      <td>standard</td>\n",
       "      <td>completed</td>\n",
       "      <td>68</td>\n",
       "      <td>78</td>\n",
       "      <td>77</td>\n",
       "      <td>A</td>\n",
       "    </tr>\n",
       "    <tr>\n",
       "      <th>999</th>\n",
       "      <td>female</td>\n",
       "      <td>group D</td>\n",
       "      <td>some college</td>\n",
       "      <td>free/reduced</td>\n",
       "      <td>none</td>\n",
       "      <td>77</td>\n",
       "      <td>86</td>\n",
       "      <td>86</td>\n",
       "      <td>A+</td>\n",
       "    </tr>\n",
       "  </tbody>\n",
       "</table>\n",
       "<p>988 rows × 9 columns</p>\n",
       "</div>"
      ],
      "text/plain": [
       "     gender race/ethnicity parental level of education         lunch  \\\n",
       "0    female        group B           bachelor's degree      standard   \n",
       "1    female        group C                some college      standard   \n",
       "2    female        group B             master's degree      standard   \n",
       "3      male        group A          associate's degree  free/reduced   \n",
       "4      male        group C                some college      standard   \n",
       "..      ...            ...                         ...           ...   \n",
       "995  female        group E             master's degree      standard   \n",
       "996    male        group C                 high school  free/reduced   \n",
       "997  female        group C                 high school  free/reduced   \n",
       "998  female        group D                some college      standard   \n",
       "999  female        group D                some college  free/reduced   \n",
       "\n",
       "    test preparation course  math score  reading score  writing score  \\\n",
       "0                      none          72             72             74   \n",
       "1                 completed          69             90             88   \n",
       "2                      none          90             95             93   \n",
       "3                      none          47             57             44   \n",
       "4                      none          76             78             75   \n",
       "..                      ...         ...            ...            ...   \n",
       "995               completed          88             99             95   \n",
       "996                    none          62             55             55   \n",
       "997               completed          59             71             65   \n",
       "998               completed          68             78             77   \n",
       "999                    none          77             86             86   \n",
       "\n",
       "         Grade  \n",
       "0            A  \n",
       "1           A+  \n",
       "2            O  \n",
       "3    Re-Appear  \n",
       "4            A  \n",
       "..         ...  \n",
       "995          O  \n",
       "996          B  \n",
       "997         B+  \n",
       "998          A  \n",
       "999         A+  \n",
       "\n",
       "[988 rows x 9 columns]"
      ]
     },
     "execution_count": 6,
     "metadata": {},
     "output_type": "execute_result"
    }
   ],
   "source": [
    "data = data[~((data<(q1-1.5*IQR))|(data>(q3 + 1.5*IQR))).any(axis=1)]\n",
    "data"
   ]
  },
  {
   "cell_type": "markdown",
   "metadata": {},
   "source": [
    "### Checking for outliers after resolving"
   ]
  },
  {
   "cell_type": "code",
   "execution_count": 7,
   "metadata": {},
   "outputs": [
    {
     "data": {
      "text/plain": [
       "<matplotlib.axes._subplots.AxesSubplot at 0x123ee5ab8c8>"
      ]
     },
     "execution_count": 7,
     "metadata": {},
     "output_type": "execute_result"
    },
    {
     "data": {
      "image/png": "[encoded data removed]",
      "text/plain": [
       "<Figure size 432x288 with 1 Axes>"
      ]
     },
     "metadata": {
      "needs_background": "light"
     },
     "output_type": "display_data"
    }
   ],
   "source": [
    "sns.boxplot(data['math score'])"
   ]
  },
  {
   "cell_type": "code",
   "execution_count": 8,
   "metadata": {},
   "outputs": [
    {
     "data": {
      "text/plain": [
       "<matplotlib.axes._subplots.AxesSubplot at 0x123ee636a08>"
      ]
     },
     "execution_count": 8,
     "metadata": {},
     "output_type": "execute_result"
    },
    {
     "data": {
      "image/png": "[encoded data removed]",
      "text/plain": [
       "<Figure size 432x288 with 1 Axes>"
      ]
     },
     "metadata": {
      "needs_background": "light"
     },
     "output_type": "display_data"
    }
   ],
   "source": [
    "sns.boxplot(data['reading score'])"
   ]
  },
  {
   "cell_type": "code",
   "execution_count": 9,
   "metadata": {},
   "outputs": [
    {
     "name": "stderr",
     "output_type": "stream",
     "text": [
      "C:\\Users\\Admin\\anaconda3\\lib\\site-packages\\pandas\\core\\frame.py:3997: SettingWithCopyWarning: \n",
      "A value is trying to be set on a copy of a slice from a DataFrame\n",
      "\n",
      "See the caveats in the documentation: https://pandas.pydata.org/pandas-docs/stable/user_guide/indexing.html#returning-a-view-versus-a-copy\n",
      "  errors=errors,\n"
     ]
    }
   ],
   "source": [
    "data.drop(data[data['reading score']==data['reading score'].min()].index.tolist(),inplace=True)"
   ]
  },
  {
   "cell_type": "code",
   "execution_count": 10,
   "metadata": {},
   "outputs": [
    {
     "data": {
      "text/plain": [
       "<matplotlib.axes._subplots.AxesSubplot at 0x123ee75d108>"
      ]
     },
     "execution_count": 10,
     "metadata": {},
     "output_type": "execute_result"
    },
    {
     "data": {
      "image/png": "[encoded data removed]",
      "text/plain": [
       "<Figure size 432x288 with 1 Axes>"
      ]
     },
     "metadata": {
      "needs_background": "light"
     },
     "output_type": "display_data"
    }
   ],
   "source": [
    "sns.boxplot(data['reading score'])"
   ]
  },
  {
   "cell_type": "code",
   "execution_count": 11,
   "metadata": {},
   "outputs": [
    {
     "data": {
      "text/plain": [
       "<matplotlib.axes._subplots.AxesSubplot at 0x123ee7c04c8>"
      ]
     },
     "execution_count": 11,
     "metadata": {},
     "output_type": "execute_result"
    },
    {
     "data": {
      "image/png": "[encoded data removed]",
      "text/plain": [
       "<Figure size 432x288 with 1 Axes>"
      ]
     },
     "metadata": {
      "needs_background": "light"
     },
     "output_type": "display_data"
    }
   ],
   "source": [
    "sns.boxplot(data['writing score'])"
   ]
  },
  {
   "cell_type": "markdown",
   "metadata": {},
   "source": [
    "### Seperating Independent and Dependent Variable"
   ]
  },
  {
   "cell_type": "code",
   "execution_count": 12,
   "metadata": {},
   "outputs": [
    {
     "data": {
      "text/plain": [
       "array([['female', 'group B', \"bachelor's degree\", ..., 72, 72, 74],\n",
       "       ['female', 'group C', 'some college', ..., 69, 90, 88],\n",
       "       ['female', 'group B', \"master's degree\", ..., 90, 95, 93],\n",
       "       ...,\n",
       "       ['female', 'group C', 'high school', ..., 59, 71, 65],\n",
       "       ['female', 'group D', 'some college', ..., 68, 78, 77],\n",
       "       ['female', 'group D', 'some college', ..., 77, 86, 86]],\n",
       "      dtype=object)"
      ]
     },
     "execution_count": 12,
     "metadata": {},
     "output_type": "execute_result"
    }
   ],
   "source": [
    "x=data.iloc[:,:-1].values\n",
    "x"
   ]
  },
  {
   "cell_type": "code",
   "execution_count": 13,
   "metadata": {},
   "outputs": [
    {
     "data": {
      "text/plain": [
       "array(['A', 'A+', 'O', 'Re-Appear', 'A', 'A', 'O', 'Re-Appear', 'B+',\n",
       "       'Re-Appear', 'B', 'Re-Appear', 'A', 'A', 'B', 'A', 'A+',\n",
       "       'Re-Appear', 'B', 'B+', 'A', 'B', 'A', 'A', 'A', 'B', 'A', 'B+',\n",
       "       'B+', 'A', 'B+', 'B+', 'Re-Appear', 'A+', 'A+', 'A', 'B', 'A+',\n",
       "       'B', 'B', 'B+', 'B', 'B+', 'B', 'B', 'B+', 'A', 'B+', 'A+', 'B',\n",
       "       'A', 'Re-Appear', 'A+', 'A+', 'Re-Appear', 'A+', 'B', 'B', 'A',\n",
       "       'Re-Appear', 'B', 'A', 'B', 'B+', 'Re-Appear', 'B+', 'B', 'B',\n",
       "       'B+', 'B+', 'Re-Appear', 'B', 'Re-Appear', 'Re-Appear', 'A', 'B+',\n",
       "       'B+', 'Re-Appear', 'Re-Appear', 'B', 'B+', 'Re-Appear', 'A', 'A+',\n",
       "       'A', 'B+', 'A+', 'A', 'Re-Appear', 'A', 'Re-Appear', 'A+', 'A+',\n",
       "       'B+', 'B+', 'B+', 'B+', 'A', 'A', 'A+', 'B', 'O', 'B+', 'O', 'B+',\n",
       "       'B+', 'B+', 'A+', 'B', 'B', 'B', 'O', 'A', 'A+', 'A', 'B', 'B+',\n",
       "       'A+', 'O', 'O', 'B', 'A', 'A+', 'B+', 'A', 'A', 'B', 'A+',\n",
       "       'Re-Appear', 'A', 'A+', 'A', 'B', 'Re-Appear', 'B+', 'B+', 'B+',\n",
       "       'A', 'B+', 'B', 'Re-Appear', 'A', 'A+', 'B+', 'A', 'O', 'B+', 'A',\n",
       "       'B+', 'B', 'B+', 'A+', 'A', 'B+', 'A', 'B+', 'A', 'A+', 'B', 'B',\n",
       "       'A+', 'O', 'B', 'A', 'A', 'A', 'A', 'A+', 'A+', 'B+', 'Re-Appear',\n",
       "       'A+', 'B', 'A', 'B+', 'O', 'B+', 'B', 'Re-Appear', 'B+',\n",
       "       'Re-Appear', 'B+', 'A', 'B+', 'Re-Appear', 'A+', 'B+', 'A', 'B+',\n",
       "       'B+', 'A', 'B', 'B+', 'B', 'B', 'A', 'A', 'A', 'A', 'B+',\n",
       "       'Re-Appear', 'A', 'B+', 'A', 'A', 'B+', 'A', 'B', 'B', 'A+', 'A+',\n",
       "       'A+', 'Re-Appear', 'A', 'B', 'B+', 'A+', 'B+', 'A+', 'B+', 'B',\n",
       "       'A', 'B', 'B+', 'O', 'B+', 'Re-Appear', 'A', 'A+', 'A+', 'A', 'B+',\n",
       "       'B+', 'B', 'A+', 'B+', 'A+', 'B', 'B', 'A', 'A', 'A', 'B+', 'B+',\n",
       "       'B+', 'Re-Appear', 'A', 'B+', 'A', 'B', 'B+', 'B+', 'A', 'A', 'A',\n",
       "       'A', 'A', 'Re-Appear', 'O', 'A', 'Re-Appear', 'A', 'A', 'O', 'A',\n",
       "       'B+', 'Re-Appear', 'B', 'B+', 'A+', 'A', 'O', 'B+', 'A', 'B+',\n",
       "       'Re-Appear', 'Re-Appear', 'A', 'A', 'Re-Appear', 'A+', 'A+', 'A',\n",
       "       'A', 'A', 'A', 'A', 'B+', 'A', 'A', 'B+', 'Re-Appear', 'A',\n",
       "       'Re-Appear', 'A+', 'A+', 'B', 'A', 'A', 'A', 'B+', 'A+',\n",
       "       'Re-Appear', 'B+', 'B', 'A', 'B+', 'B+', 'B+', 'B+', 'B+', 'A+',\n",
       "       'A', 'B+', 'B+', 'A', 'A+', 'A', 'Re-Appear', 'Re-Appear', 'A+',\n",
       "       'B+', 'A', 'Re-Appear', 'B+', 'Re-Appear', 'B', 'A+', 'O', 'B+',\n",
       "       'A', 'Re-Appear', 'B', 'B', 'B+', 'A', 'B+', 'A', 'A', 'B+', 'A+',\n",
       "       'A', 'A', 'B+', 'B', 'A', 'B', 'B+', 'B+', 'B+', 'B', 'B+', 'A+',\n",
       "       'B', 'A+', 'B', 'Re-Appear', 'B', 'B', 'B+', 'B+', 'B', 'A+', 'A',\n",
       "       'B+', 'A', 'O', 'B+', 'Re-Appear', 'A+', 'O', 'A', 'B+', 'A+', 'O',\n",
       "       'A', 'Re-Appear', 'Re-Appear', 'A', 'B+', 'B+', 'B+', 'A', 'B+',\n",
       "       'A', 'A', 'B', 'A', 'Re-Appear', 'B+', 'A+', 'B+', 'B', 'B+',\n",
       "       'Re-Appear', 'B', 'O', 'B', 'B+', 'B+', 'A', 'B', 'A+', 'A', 'A+',\n",
       "       'B+', 'B+', 'B+', 'A', 'A', 'A', 'B+', 'B', 'A+', 'B', 'B', 'A',\n",
       "       'Re-Appear', 'B+', 'A+', 'B+', 'B', 'B+', 'B+', 'B+', 'B', 'B',\n",
       "       'B+', 'B', 'B+', 'A', 'B', 'A+', 'A', 'A', 'B+', 'A', 'A', 'A',\n",
       "       'B+', 'A+', 'Re-Appear', 'A', 'A', 'O', 'A', 'B', 'B', 'Re-Appear',\n",
       "       'A+', 'B', 'O', 'B+', 'B', 'B', 'A', 'A+', 'B+', 'A+', 'B+', 'A+',\n",
       "       'A+', 'A+', 'B+', 'A', 'B+', 'O', 'A', 'B+', 'A', 'B+', 'A', 'A',\n",
       "       'B', 'B+', 'B', 'B', 'A', 'B', 'B+', 'B', 'A+', 'A', 'B+', 'A+',\n",
       "       'A+', 'B+', 'B+', 'B', 'A', 'B+', 'A', 'A', 'O', 'B', 'O', 'B',\n",
       "       'A+', 'B+', 'B', 'A', 'A+', 'A', 'B', 'B', 'B', 'A+', 'A+', 'A+',\n",
       "       'A', 'A', 'A', 'B', 'A+', 'B+', 'B', 'B', 'B+', 'B', 'Re-Appear',\n",
       "       'Re-Appear', 'B+', 'B+', 'B', 'B+', 'A+', 'A', 'A', 'B', 'B', 'A',\n",
       "       'O', 'A', 'A+', 'A', 'A+', 'B+', 'A+', 'O', 'B+', 'B+', 'A', 'A',\n",
       "       'A+', 'Re-Appear', 'B+', 'Re-Appear', 'Re-Appear', 'B+', 'B+',\n",
       "       'B+', 'B+', 'A', 'A', 'O', 'A', 'Re-Appear', 'Re-Appear', 'O', 'A',\n",
       "       'B', 'B+', 'A', 'O', 'B', 'B+', 'A', 'Re-Appear', 'B', 'A+', 'B',\n",
       "       'B+', 'O', 'A', 'A', 'A', 'A', 'A', 'B+', 'B', 'B+', 'B', 'B',\n",
       "       'B+', 'B+', 'A', 'O', 'B+', 'B', 'A', 'A', 'B', 'A', 'B', 'A+',\n",
       "       'B+', 'A+', 'B', 'B+', 'B+', 'B+', 'B+', 'O', 'A', 'A+', 'B+',\n",
       "       'Re-Appear', 'A+', 'A+', 'B+', 'B', 'B+', 'B', 'O', 'B+', 'O',\n",
       "       'B+', 'B', 'B', 'B', 'B+', 'B+', 'A', 'A+', 'A+', 'B+', 'A', 'A+',\n",
       "       'A', 'A', 'Re-Appear', 'A+', 'A', 'A', 'B+', 'A', 'B+', 'B+', 'B',\n",
       "       'A', 'B', 'A', 'A+', 'B+', 'A', 'B+', 'B+', 'B+', 'B', 'A+', 'A',\n",
       "       'B+', 'B+', 'B+', 'B+', 'B', 'B+', 'A+', 'B+', 'A', 'A', 'B', 'A',\n",
       "       'A', 'A', 'B+', 'A', 'A', 'A', 'B+', 'A', 'B+', 'B', 'Re-Appear',\n",
       "       'B+', 'O', 'A', 'A', 'B', 'A+', 'B', 'A', 'A', 'A', 'B', 'A+',\n",
       "       'A+', 'B+', 'A', 'B+', 'A+', 'B+', 'A+', 'B+', 'B+', 'B+',\n",
       "       'Re-Appear', 'B', 'A+', 'B', 'A+', 'A+', 'O', 'A+', 'B+', 'A+',\n",
       "       'A', 'O', 'A', 'A+', 'B+', 'B', 'A+', 'Re-Appear', 'Re-Appear',\n",
       "       'A', 'A', 'B', 'A+', 'Re-Appear', 'A', 'Re-Appear', 'O',\n",
       "       'Re-Appear', 'B', 'B+', 'A+', 'B+', 'A', 'B', 'A', 'B', 'A+', 'B+',\n",
       "       'B', 'A', 'A', 'B+', 'B', 'A+', 'B+', 'B+', 'A', 'A+', 'B', 'O',\n",
       "       'B', 'A', 'B', 'A', 'B+', 'B', 'A+', 'B+', 'B+', 'A', 'A', 'B+',\n",
       "       'A', 'B', 'Re-Appear', 'A', 'B+', 'A', 'B+', 'B', 'B+',\n",
       "       'Re-Appear', 'A', 'A+', 'B', 'A+', 'A+', 'B', 'A+', 'Re-Appear',\n",
       "       'A', 'B+', 'B', 'B', 'B+', 'B+', 'A+', 'Re-Appear', 'B+', 'A', 'A',\n",
       "       'B+', 'B', 'B+', 'A', 'O', 'A+', 'A', 'A', 'A', 'Re-Appear', 'A',\n",
       "       'B', 'Re-Appear', 'Re-Appear', 'B+', 'A+', 'A', 'A+', 'B', 'B+',\n",
       "       'B+', 'A+', 'A+', 'A+', 'B', 'A+', 'B', 'B+', 'B+', 'A', 'A', 'B',\n",
       "       'B', 'A+', 'B+', 'A+', 'B', 'B+', 'B+', 'A', 'B', 'A', 'Re-Appear',\n",
       "       'B', 'A', 'B', 'A+', 'A+', 'B', 'B+', 'A', 'B+', 'B+', 'A+', 'A',\n",
       "       'B+', 'O', 'B+', 'A', 'Re-Appear', 'A', 'B', 'A+', 'Re-Appear',\n",
       "       'A', 'O', 'A+', 'B', 'Re-Appear', 'A', 'B', 'B', 'A', 'A+', 'A+',\n",
       "       'B', 'A', 'A+', 'B', 'A', 'A', 'B+', 'A', 'B+', 'Re-Appear', 'B',\n",
       "       'A', 'O', 'B+', 'B+', 'Re-Appear', 'A+', 'A+', 'B+', 'A', 'B+',\n",
       "       'Re-Appear', 'A', 'B+', 'A', 'A+', 'A', 'Re-Appear', 'O', 'A',\n",
       "       'A+', 'B', 'A+', 'A', 'B+', 'Re-Appear', 'A', 'B', 'B', 'B', 'B+',\n",
       "       'O', 'B', 'A', 'O', 'B+', 'Re-Appear', 'B+', 'B+', 'A', 'B+', 'B',\n",
       "       'B+', 'Re-Appear', 'B', 'A', 'B+', 'B+', 'A', 'O', 'B+', 'B', 'B',\n",
       "       'A+', 'A', 'A', 'A+', 'A', 'B+', 'B+', 'B', 'A+', 'B', 'B', 'B+',\n",
       "       'A', 'A', 'A', 'B', 'B+', 'B+', 'A+', 'O', 'B', 'A', 'B', 'B', 'O',\n",
       "       'A', 'B+', 'B+', 'B+', 'B+', 'A', 'A', 'O', 'A', 'B', 'B', 'B+',\n",
       "       'A', 'B+', 'B+', 'Re-Appear', 'O', 'A', 'A+', 'A+', 'A', 'B', 'B',\n",
       "       'A', 'Re-Appear', 'A', 'A+', 'A', 'B+', 'B+', 'B+', 'O', 'B', 'B+',\n",
       "       'A', 'A+'], dtype=object)"
      ]
     },
     "execution_count": 13,
     "metadata": {},
     "output_type": "execute_result"
    }
   ],
   "source": [
    "y=data.iloc[:,-1].values\n",
    "y"
   ]
  },
  {
   "cell_type": "code",
   "execution_count": 14,
   "metadata": {},
   "outputs": [
    {
     "data": {
      "text/plain": [
       "(986, 8)"
      ]
     },
     "execution_count": 14,
     "metadata": {},
     "output_type": "execute_result"
    }
   ],
   "source": [
    "x.shape"
   ]
  },
  {
   "cell_type": "markdown",
   "metadata": {},
   "source": [
    "### Using OneHotEncoder"
   ]
  },
  {
   "cell_type": "code",
   "execution_count": 15,
   "metadata": {},
   "outputs": [],
   "source": [
    "from sklearn.compose import ColumnTransformer\n",
    "from sklearn.preprocessing import OneHotEncoder"
   ]
  },
  {
   "cell_type": "code",
   "execution_count": 16,
   "metadata": {},
   "outputs": [],
   "source": [
    "ct = ColumnTransformer([(\"aj\",OneHotEncoder(),[0])],remainder=\"passthrough\") \n",
    "x = ct.fit_transform(x)"
   ]
  },
  {
   "cell_type": "code",
   "execution_count": 17,
   "metadata": {
    "scrolled": false
   },
   "outputs": [],
   "source": [
    "ct = ColumnTransformer([(\"aj\",OneHotEncoder(),[2])],remainder=\"passthrough\") \n",
    "x = ct.fit_transform(x) "
   ]
  },
  {
   "cell_type": "code",
   "execution_count": 18,
   "metadata": {
    "scrolled": true
   },
   "outputs": [],
   "source": [
    "ct = ColumnTransformer([(\"aj\",OneHotEncoder(),[7])],remainder=\"passthrough\") \n",
    "x = ct.fit_transform(x)"
   ]
  },
  {
   "cell_type": "code",
   "execution_count": 19,
   "metadata": {
    "scrolled": true
   },
   "outputs": [],
   "source": [
    "ct = ColumnTransformer([(\"aj\",OneHotEncoder(),[13])],remainder=\"passthrough\") \n",
    "x = ct.fit_transform(x)"
   ]
  },
  {
   "cell_type": "code",
   "execution_count": 20,
   "metadata": {
    "scrolled": true
   },
   "outputs": [],
   "source": [
    "ct = ColumnTransformer([(\"aj\",OneHotEncoder(),[15])],remainder=\"passthrough\") \n",
    "x = ct.fit_transform(x)"
   ]
  },
  {
   "cell_type": "code",
   "execution_count": 21,
   "metadata": {},
   "outputs": [
    {
     "data": {
      "text/plain": [
       "(986, 20)"
      ]
     },
     "execution_count": 21,
     "metadata": {},
     "output_type": "execute_result"
    }
   ],
   "source": [
    "x.shape"
   ]
  },
  {
   "cell_type": "markdown",
   "metadata": {},
   "source": [
    "### Removing the dummy column"
   ]
  },
  {
   "cell_type": "code",
   "execution_count": 22,
   "metadata": {},
   "outputs": [
    {
     "data": {
      "text/plain": [
       "(986, 19)"
      ]
     },
     "execution_count": 22,
     "metadata": {},
     "output_type": "execute_result"
    }
   ],
   "source": [
    "x=x[:,1:]\n",
    "x.shape"
   ]
  },
  {
   "cell_type": "markdown",
   "metadata": {},
   "source": [
    "### Using LabelEncoder For Dependent Variable"
   ]
  },
  {
   "cell_type": "code",
   "execution_count": 23,
   "metadata": {},
   "outputs": [],
   "source": [
    "from sklearn.preprocessing import LabelEncoder"
   ]
  },
  {
   "cell_type": "code",
   "execution_count": 24,
   "metadata": {},
   "outputs": [],
   "source": [
    "lab=LabelEncoder()"
   ]
  },
  {
   "cell_type": "code",
   "execution_count": 25,
   "metadata": {},
   "outputs": [
    {
     "data": {
      "text/plain": [
       "array([0, 1, 4, 5, 0, 0, 4, 5, 3, 5, 2, 5, 0, 0, 2, 0, 1, 5, 2, 3, 0, 2,\n",
       "       0, 0, 0, 2, 0, 3, 3, 0, 3, 3, 5, 1, 1, 0, 2, 1, 2, 2, 3, 2, 3, 2,\n",
       "       2, 3, 0, 3, 1, 2, 0, 5, 1, 1, 5, 1, 2, 2, 0, 5, 2, 0, 2, 3, 5, 3,\n",
       "       2, 2, 3, 3, 5, 2, 5, 5, 0, 3, 3, 5, 5, 2, 3, 5, 0, 1, 0, 3, 1, 0,\n",
       "       5, 0, 5, 1, 1, 3, 3, 3, 3, 0, 0, 1, 2, 4, 3, 4, 3, 3, 3, 1, 2, 2,\n",
       "       2, 4, 0, 1, 0, 2, 3, 1, 4, 4, 2, 0, 1, 3, 0, 0, 2, 1, 5, 0, 1, 0,\n",
       "       2, 5, 3, 3, 3, 0, 3, 2, 5, 0, 1, 3, 0, 4, 3, 0, 3, 2, 3, 1, 0, 3,\n",
       "       0, 3, 0, 1, 2, 2, 1, 4, 2, 0, 0, 0, 0, 1, 1, 3, 5, 1, 2, 0, 3, 4,\n",
       "       3, 2, 5, 3, 5, 3, 0, 3, 5, 1, 3, 0, 3, 3, 0, 2, 3, 2, 2, 0, 0, 0,\n",
       "       0, 3, 5, 0, 3, 0, 0, 3, 0, 2, 2, 1, 1, 1, 5, 0, 2, 3, 1, 3, 1, 3,\n",
       "       2, 0, 2, 3, 4, 3, 5, 0, 1, 1, 0, 3, 3, 2, 1, 3, 1, 2, 2, 0, 0, 0,\n",
       "       3, 3, 3, 5, 0, 3, 0, 2, 3, 3, 0, 0, 0, 0, 0, 5, 4, 0, 5, 0, 0, 4,\n",
       "       0, 3, 5, 2, 3, 1, 0, 4, 3, 0, 3, 5, 5, 0, 0, 5, 1, 1, 0, 0, 0, 0,\n",
       "       0, 3, 0, 0, 3, 5, 0, 5, 1, 1, 2, 0, 0, 0, 3, 1, 5, 3, 2, 0, 3, 3,\n",
       "       3, 3, 3, 1, 0, 3, 3, 0, 1, 0, 5, 5, 1, 3, 0, 5, 3, 5, 2, 1, 4, 3,\n",
       "       0, 5, 2, 2, 3, 0, 3, 0, 0, 3, 1, 0, 0, 3, 2, 0, 2, 3, 3, 3, 2, 3,\n",
       "       1, 2, 1, 2, 5, 2, 2, 3, 3, 2, 1, 0, 3, 0, 4, 3, 5, 1, 4, 0, 3, 1,\n",
       "       4, 0, 5, 5, 0, 3, 3, 3, 0, 3, 0, 0, 2, 0, 5, 3, 1, 3, 2, 3, 5, 2,\n",
       "       4, 2, 3, 3, 0, 2, 1, 0, 1, 3, 3, 3, 0, 0, 0, 3, 2, 1, 2, 2, 0, 5,\n",
       "       3, 1, 3, 2, 3, 3, 3, 2, 2, 3, 2, 3, 0, 2, 1, 0, 0, 3, 0, 0, 0, 3,\n",
       "       1, 5, 0, 0, 4, 0, 2, 2, 5, 1, 2, 4, 3, 2, 2, 0, 1, 3, 1, 3, 1, 1,\n",
       "       1, 3, 0, 3, 4, 0, 3, 0, 3, 0, 0, 2, 3, 2, 2, 0, 2, 3, 2, 1, 0, 3,\n",
       "       1, 1, 3, 3, 2, 0, 3, 0, 0, 4, 2, 4, 2, 1, 3, 2, 0, 1, 0, 2, 2, 2,\n",
       "       1, 1, 1, 0, 0, 0, 2, 1, 3, 2, 2, 3, 2, 5, 5, 3, 3, 2, 3, 1, 0, 0,\n",
       "       2, 2, 0, 4, 0, 1, 0, 1, 3, 1, 4, 3, 3, 0, 0, 1, 5, 3, 5, 5, 3, 3,\n",
       "       3, 3, 0, 0, 4, 0, 5, 5, 4, 0, 2, 3, 0, 4, 2, 3, 0, 5, 2, 1, 2, 3,\n",
       "       4, 0, 0, 0, 0, 0, 3, 2, 3, 2, 2, 3, 3, 0, 4, 3, 2, 0, 0, 2, 0, 2,\n",
       "       1, 3, 1, 2, 3, 3, 3, 3, 4, 0, 1, 3, 5, 1, 1, 3, 2, 3, 2, 4, 3, 4,\n",
       "       3, 2, 2, 2, 3, 3, 0, 1, 1, 3, 0, 1, 0, 0, 5, 1, 0, 0, 3, 0, 3, 3,\n",
       "       2, 0, 2, 0, 1, 3, 0, 3, 3, 3, 2, 1, 0, 3, 3, 3, 3, 2, 3, 1, 3, 0,\n",
       "       0, 2, 0, 0, 0, 3, 0, 0, 0, 3, 0, 3, 2, 5, 3, 4, 0, 0, 2, 1, 2, 0,\n",
       "       0, 0, 2, 1, 1, 3, 0, 3, 1, 3, 1, 3, 3, 3, 5, 2, 1, 2, 1, 1, 4, 1,\n",
       "       3, 1, 0, 4, 0, 1, 3, 2, 1, 5, 5, 0, 0, 2, 1, 5, 0, 5, 4, 5, 2, 3,\n",
       "       1, 3, 0, 2, 0, 2, 1, 3, 2, 0, 0, 3, 2, 1, 3, 3, 0, 1, 2, 4, 2, 0,\n",
       "       2, 0, 3, 2, 1, 3, 3, 0, 0, 3, 0, 2, 5, 0, 3, 0, 3, 2, 3, 5, 0, 1,\n",
       "       2, 1, 1, 2, 1, 5, 0, 3, 2, 2, 3, 3, 1, 5, 3, 0, 0, 3, 2, 3, 0, 4,\n",
       "       1, 0, 0, 0, 5, 0, 2, 5, 5, 3, 1, 0, 1, 2, 3, 3, 1, 1, 1, 2, 1, 2,\n",
       "       3, 3, 0, 0, 2, 2, 1, 3, 1, 2, 3, 3, 0, 2, 0, 5, 2, 0, 2, 1, 1, 2,\n",
       "       3, 0, 3, 3, 1, 0, 3, 4, 3, 0, 5, 0, 2, 1, 5, 0, 4, 1, 2, 5, 0, 2,\n",
       "       2, 0, 1, 1, 2, 0, 1, 2, 0, 0, 3, 0, 3, 5, 2, 0, 4, 3, 3, 5, 1, 1,\n",
       "       3, 0, 3, 5, 0, 3, 0, 1, 0, 5, 4, 0, 1, 2, 1, 0, 3, 5, 0, 2, 2, 2,\n",
       "       3, 4, 2, 0, 4, 3, 5, 3, 3, 0, 3, 2, 3, 5, 2, 0, 3, 3, 0, 4, 3, 2,\n",
       "       2, 1, 0, 0, 1, 0, 3, 3, 2, 1, 2, 2, 3, 0, 0, 0, 2, 3, 3, 1, 4, 2,\n",
       "       0, 2, 2, 4, 0, 3, 3, 3, 3, 0, 0, 4, 0, 2, 2, 3, 0, 3, 3, 5, 4, 0,\n",
       "       1, 1, 0, 2, 2, 0, 5, 0, 1, 0, 3, 3, 3, 4, 2, 3, 0, 1])"
      ]
     },
     "execution_count": 25,
     "metadata": {},
     "output_type": "execute_result"
    }
   ],
   "source": [
    "y=lab.fit_transform(y)\n",
    "y"
   ]
  },
  {
   "cell_type": "markdown",
   "metadata": {},
   "source": [
    "### Data Visualization"
   ]
  },
  {
   "cell_type": "code",
   "execution_count": 26,
   "metadata": {},
   "outputs": [
    {
     "data": {
      "text/plain": [
       "<matplotlib.collections.PathCollection at 0x123eea28bc8>"
      ]
     },
     "execution_count": 26,
     "metadata": {},
     "output_type": "execute_result"
    },
    {
     "data": {
      "image/png": "[encoded data removed]",
      "text/plain": [
       "<Figure size 432x288 with 1 Axes>"
      ]
     },
     "metadata": {
      "needs_background": "light"
     },
     "output_type": "display_data"
    }
   ],
   "source": [
    "plt.scatter(data['math score'],y)"
   ]
  },
  {
   "cell_type": "code",
   "execution_count": 27,
   "metadata": {},
   "outputs": [
    {
     "data": {
      "text/plain": [
       "<matplotlib.collections.PathCollection at 0x123eea9b448>"
      ]
     },
     "execution_count": 27,
     "metadata": {},
     "output_type": "execute_result"
    },
    {
     "data": {
      "image/png": "[encoded data removed]",
      "text/plain": [
       "<Figure size 432x288 with 1 Axes>"
      ]
     },
     "metadata": {
      "needs_background": "light"
     },
     "output_type": "display_data"
    }
   ],
   "source": [
    "plt.scatter(data['reading score'],y)"
   ]
  },
  {
   "cell_type": "code",
   "execution_count": 28,
   "metadata": {},
   "outputs": [
    {
     "data": {
      "text/plain": [
       "<matplotlib.collections.PathCollection at 0x123eeb086c8>"
      ]
     },
     "execution_count": 28,
     "metadata": {},
     "output_type": "execute_result"
    },
    {
     "data": {
      "image/png": "[encoded data removed]",
      "text/plain": [
       "<Figure size 432x288 with 1 Axes>"
      ]
     },
     "metadata": {
      "needs_background": "light"
     },
     "output_type": "display_data"
    }
   ],
   "source": [
    "plt.scatter(data['writing score'],y)"
   ]
  },
  {
   "cell_type": "markdown",
   "metadata": {},
   "source": [
    "### Spliting data's for Training and Testing purpose"
   ]
  },
  {
   "cell_type": "code",
   "execution_count": 29,
   "metadata": {},
   "outputs": [],
   "source": [
    "from sklearn.model_selection import train_test_split"
   ]
  },
  {
   "cell_type": "code",
   "execution_count": 30,
   "metadata": {},
   "outputs": [],
   "source": [
    "x_train,x_test,y_train,y_test=train_test_split(x,y,test_size=0.01,random_state=0)"
   ]
  },
  {
   "cell_type": "code",
   "execution_count": 31,
   "metadata": {},
   "outputs": [
    {
     "data": {
      "text/plain": [
       "array([[0.0, 0.0, 1.0, ..., 76, 70, 69],\n",
       "       [1.0, 0.0, 1.0, ..., 85, 92, 85],\n",
       "       [1.0, 0.0, 1.0, ..., 45, 59, 64],\n",
       "       ...,\n",
       "       [1.0, 0.0, 1.0, ..., 76, 74, 73],\n",
       "       [0.0, 1.0, 0.0, ..., 61, 71, 78],\n",
       "       [1.0, 0.0, 1.0, ..., 49, 63, 56]], dtype=object)"
      ]
     },
     "execution_count": 31,
     "metadata": {},
     "output_type": "execute_result"
    }
   ],
   "source": [
    "x_train"
   ]
  },
  {
   "cell_type": "code",
   "execution_count": 32,
   "metadata": {},
   "outputs": [
    {
     "data": {
      "text/plain": [
       "array([0, 1, 2, 5, 3, 2, 0, 5, 5, 1, 4, 2, 3, 4, 3, 1, 3, 0, 3, 3, 0, 5,\n",
       "       0, 1, 0, 5, 1, 2, 0, 1, 4, 1, 3, 2, 2, 1, 3, 0, 3, 3, 3, 2, 2, 2,\n",
       "       0, 0, 3, 3, 0, 0, 0, 2, 0, 3, 2, 3, 2, 0, 2, 0, 0, 1, 2, 2, 5, 2,\n",
       "       3, 1, 5, 0, 5, 1, 0, 2, 1, 3, 3, 5, 3, 3, 2, 3, 2, 0, 1, 0, 2, 0,\n",
       "       1, 5, 0, 2, 0, 1, 4, 3, 3, 1, 0, 0, 3, 5, 0, 4, 3, 0, 3, 0, 3, 3,\n",
       "       3, 2, 0, 4, 5, 4, 2, 3, 4, 0, 0, 0, 0, 5, 1, 0, 3, 1, 2, 2, 0, 1,\n",
       "       0, 1, 2, 0, 0, 0, 3, 1, 2, 0, 3, 5, 5, 4, 4, 3, 3, 0, 0, 0, 0, 5,\n",
       "       1, 1, 0, 0, 1, 1, 2, 3, 1, 2, 4, 0, 3, 0, 3, 0, 0, 3, 1, 1, 1, 3,\n",
       "       1, 0, 2, 0, 2, 0, 1, 3, 1, 2, 0, 0, 2, 0, 3, 3, 3, 1, 3, 2, 0, 0,\n",
       "       2, 1, 2, 1, 0, 2, 2, 2, 3, 2, 3, 3, 2, 5, 2, 0, 0, 3, 4, 3, 3, 2,\n",
       "       1, 3, 3, 3, 3, 3, 5, 1, 3, 3, 1, 1, 5, 1, 3, 5, 0, 0, 5, 2, 3, 0,\n",
       "       3, 5, 5, 1, 1, 1, 3, 0, 2, 0, 2, 1, 1, 2, 2, 3, 3, 3, 2, 3, 2, 3,\n",
       "       0, 2, 3, 1, 3, 0, 1, 3, 4, 2, 2, 3, 3, 1, 3, 2, 4, 2, 2, 2, 2, 0,\n",
       "       2, 0, 1, 1, 2, 0, 2, 2, 0, 0, 3, 3, 5, 3, 1, 1, 4, 0, 3, 0, 5, 0,\n",
       "       1, 3, 0, 2, 3, 1, 0, 1, 4, 0, 1, 1, 0, 3, 0, 0, 0, 5, 2, 4, 0, 5,\n",
       "       0, 1, 5, 5, 3, 4, 0, 0, 0, 0, 4, 3, 3, 5, 0, 5, 5, 1, 1, 2, 5, 5,\n",
       "       3, 2, 0, 4, 3, 0, 0, 2, 2, 0, 3, 3, 0, 0, 5, 2, 2, 3, 3, 3, 2, 0,\n",
       "       3, 5, 3, 1, 4, 2, 1, 1, 1, 2, 1, 1, 1, 0, 2, 3, 5, 3, 2, 2, 2, 3,\n",
       "       0, 3, 4, 3, 3, 0, 2, 2, 0, 4, 3, 4, 2, 3, 0, 0, 1, 2, 2, 0, 0, 1,\n",
       "       3, 4, 2, 2, 1, 4, 2, 3, 2, 3, 3, 3, 2, 0, 0, 5, 0, 4, 3, 3, 2, 4,\n",
       "       2, 3, 3, 3, 2, 2, 5, 5, 5, 1, 3, 1, 0, 4, 0, 3, 1, 2, 1, 1, 0, 3,\n",
       "       3, 3, 0, 0, 2, 3, 0, 2, 1, 0, 1, 2, 2, 2, 2, 0, 5, 2, 2, 0, 5, 3,\n",
       "       0, 2, 2, 5, 3, 4, 0, 3, 3, 3, 0, 3, 4, 2, 0, 0, 2, 3, 4, 0, 2, 2,\n",
       "       0, 1, 1, 0, 3, 1, 3, 1, 2, 0, 3, 0, 0, 3, 2, 3, 0, 5, 0, 5, 5, 0,\n",
       "       3, 5, 3, 2, 1, 4, 2, 3, 2, 3, 3, 1, 3, 3, 1, 0, 0, 2, 3, 2, 3, 2,\n",
       "       0, 1, 0, 2, 0, 2, 3, 0, 5, 0, 2, 3, 3, 3, 2, 2, 3, 0, 0, 3, 4, 3,\n",
       "       1, 2, 0, 4, 2, 3, 1, 0, 2, 1, 2, 3, 3, 2, 3, 2, 0, 3, 5, 1, 0, 3,\n",
       "       5, 1, 3, 0, 4, 0, 5, 3, 0, 4, 0, 3, 3, 0, 0, 3, 0, 1, 0, 3, 0, 3,\n",
       "       3, 0, 4, 5, 0, 3, 2, 1, 2, 2, 0, 0, 3, 0, 3, 3, 1, 3, 3, 1, 2, 0,\n",
       "       2, 0, 3, 0, 0, 3, 1, 0, 3, 1, 3, 3, 2, 3, 2, 3, 0, 3, 0, 1, 2, 3,\n",
       "       1, 2, 0, 3, 1, 1, 0, 0, 0, 5, 2, 3, 3, 0, 1, 0, 5, 3, 0, 0, 0, 1,\n",
       "       1, 0, 3, 1, 3, 5, 2, 2, 1, 2, 3, 3, 2, 0, 0, 3, 3, 0, 1, 3, 3, 1,\n",
       "       5, 2, 0, 0, 0, 3, 3, 4, 5, 0, 5, 3, 5, 2, 0, 0, 1, 2, 0, 3, 3, 3,\n",
       "       1, 0, 2, 2, 3, 3, 5, 3, 5, 3, 3, 3, 3, 1, 1, 2, 0, 1, 2, 0, 3, 1,\n",
       "       0, 0, 3, 4, 0, 2, 0, 0, 3, 3, 2, 3, 3, 1, 3, 0, 2, 0, 3, 1, 1, 5,\n",
       "       3, 0, 1, 0, 2, 2, 2, 0, 2, 5, 3, 1, 3, 2, 0, 5, 0, 5, 0, 0, 2, 0,\n",
       "       1, 3, 4, 2, 1, 5, 3, 2, 0, 3, 1, 0, 0, 0, 4, 5, 0, 0, 0, 5, 3, 4,\n",
       "       0, 5, 3, 3, 2, 5, 2, 1, 2, 2, 4, 0, 2, 1, 3, 0, 1, 3, 1, 1, 3, 2,\n",
       "       0, 0, 5, 1, 2, 0, 0, 0, 4, 2, 3, 0, 5, 4, 2, 0, 1, 0, 0, 1, 0, 5,\n",
       "       0, 3, 2, 0, 3, 2, 0, 2, 1, 1, 5, 4, 0, 0, 3, 5, 5, 3, 0, 2, 3, 1,\n",
       "       3, 0, 0, 0, 3, 3, 3, 3, 1, 0, 0, 2, 4, 3, 5, 2, 3, 5, 0, 1, 0, 3,\n",
       "       2, 5, 0, 0, 0, 2, 3, 2, 1, 3, 5, 1, 3, 3, 3, 3, 0, 4, 1, 3, 5, 1,\n",
       "       5, 0, 2, 3, 0, 3, 3, 0, 0, 0, 3, 2, 1, 5, 5, 2, 0, 1, 0, 2, 2, 3,\n",
       "       5, 0, 1, 0, 1, 1, 3, 0, 3, 3, 1, 3, 4, 3, 0, 5, 3, 1, 3, 0, 5, 5,\n",
       "       3, 4, 0, 2, 3, 0, 0, 2])"
      ]
     },
     "execution_count": 32,
     "metadata": {},
     "output_type": "execute_result"
    }
   ],
   "source": [
    "y_train"
   ]
  },
  {
   "cell_type": "code",
   "execution_count": 33,
   "metadata": {},
   "outputs": [
    {
     "data": {
      "text/plain": [
       "array([[1.0, 1.0, 0.0, 0.0, 1.0, 0.0, 0.0, 0.0, 0.0, 0.0, 0.0, 0.0, 1.0,\n",
       "        0.0, 0.0, 1.0, 63, 66, 67],\n",
       "       [0.0, 0.0, 1.0, 1.0, 0.0, 0.0, 0.0, 0.0, 0.0, 0.0, 0.0, 0.0, 1.0,\n",
       "        0.0, 1.0, 0.0, 57, 78, 79],\n",
       "       [1.0, 0.0, 1.0, 0.0, 0.0, 1.0, 0.0, 0.0, 0.0, 0.0, 0.0, 1.0, 0.0,\n",
       "        0.0, 0.0, 1.0, 70, 70, 65],\n",
       "       [0.0, 0.0, 1.0, 0.0, 0.0, 0.0, 0.0, 1.0, 0.0, 0.0, 0.0, 0.0, 1.0,\n",
       "        0.0, 1.0, 0.0, 82, 97, 96],\n",
       "       [0.0, 0.0, 1.0, 0.0, 0.0, 0.0, 0.0, 1.0, 0.0, 0.0, 0.0, 0.0, 0.0,\n",
       "        1.0, 0.0, 1.0, 81, 74, 71],\n",
       "       [1.0, 1.0, 0.0, 1.0, 0.0, 0.0, 0.0, 0.0, 0.0, 1.0, 0.0, 0.0, 0.0,\n",
       "        0.0, 1.0, 0.0, 65, 85, 76],\n",
       "       [1.0, 0.0, 1.0, 1.0, 0.0, 0.0, 0.0, 0.0, 0.0, 0.0, 1.0, 0.0, 0.0,\n",
       "        0.0, 1.0, 0.0, 73, 83, 76],\n",
       "       [1.0, 0.0, 1.0, 0.0, 0.0, 1.0, 0.0, 0.0, 0.0, 0.0, 0.0, 0.0, 1.0,\n",
       "        0.0, 0.0, 1.0, 89, 87, 79],\n",
       "       [1.0, 0.0, 1.0, 0.0, 0.0, 0.0, 1.0, 0.0, 0.0, 0.0, 0.0, 1.0, 0.0,\n",
       "        0.0, 0.0, 1.0, 67, 57, 59],\n",
       "       [1.0, 1.0, 0.0, 0.0, 1.0, 0.0, 0.0, 0.0, 0.0, 0.0, 1.0, 0.0, 0.0,\n",
       "        0.0, 0.0, 1.0, 88, 75, 76]], dtype=object)"
      ]
     },
     "execution_count": 33,
     "metadata": {},
     "output_type": "execute_result"
    }
   ],
   "source": [
    "x_test"
   ]
  },
  {
   "cell_type": "code",
   "execution_count": 34,
   "metadata": {},
   "outputs": [
    {
     "data": {
      "text/plain": [
       "array([3, 0, 3, 4, 0, 0, 0, 1, 3, 0])"
      ]
     },
     "execution_count": 34,
     "metadata": {},
     "output_type": "execute_result"
    }
   ],
   "source": [
    "y_test"
   ]
  },
  {
   "cell_type": "markdown",
   "metadata": {},
   "source": [
    "### Building the Model"
   ]
  },
  {
   "cell_type": "code",
   "execution_count": 35,
   "metadata": {},
   "outputs": [],
   "source": [
    "from sklearn.naive_bayes import GaussianNB\n",
    "na_by=GaussianNB()"
   ]
  },
  {
   "cell_type": "markdown",
   "metadata": {},
   "source": [
    "### Training the Model"
   ]
  },
  {
   "cell_type": "code",
   "execution_count": 36,
   "metadata": {},
   "outputs": [
    {
     "data": {
      "text/plain": [
       "GaussianNB(priors=None, var_smoothing=1e-09)"
      ]
     },
     "execution_count": 36,
     "metadata": {},
     "output_type": "execute_result"
    }
   ],
   "source": [
    "na_by.fit(x_train,y_train)"
   ]
  },
  {
   "cell_type": "markdown",
   "metadata": {},
   "source": [
    "### Saving the model in a file to use it in application"
   ]
  },
  {
   "cell_type": "code",
   "execution_count": 37,
   "metadata": {},
   "outputs": [
    {
     "data": {
      "text/plain": [
       "['Student Grade Prediction Model.txt']"
      ]
     },
     "execution_count": 37,
     "metadata": {},
     "output_type": "execute_result"
    }
   ],
   "source": [
    "dump(na_by,\"Student Grade Prediction Model.txt\")"
   ]
  },
  {
   "cell_type": "markdown",
   "metadata": {},
   "source": [
    "### Predicting the output"
   ]
  },
  {
   "cell_type": "code",
   "execution_count": 38,
   "metadata": {},
   "outputs": [
    {
     "data": {
      "text/plain": [
       "array([3, 0, 3, 4, 0, 0, 0, 1, 2, 0])"
      ]
     },
     "execution_count": 38,
     "metadata": {},
     "output_type": "execute_result"
    }
   ],
   "source": [
    "y_pred=na_by.predict(x_test)\n",
    "y_pred"
   ]
  },
  {
   "cell_type": "markdown",
   "metadata": {},
   "source": [
    "### Changing numbers to grade"
   ]
  },
  {
   "cell_type": "code",
   "execution_count": 39,
   "metadata": {},
   "outputs": [],
   "source": [
    "predict_grade=[]\n",
    "for i in y_pred:\n",
    "    if i==0:\n",
    "        predict_grade.append('A')\n",
    "    elif i==1:\n",
    "        predict_grade.append('A+')\n",
    "    elif i==2:\n",
    "        predict_grade.append('B')\n",
    "    elif i==3:\n",
    "        predict_grade.append('B+')\n",
    "    elif i==4:\n",
    "        predict_grade.append('O')\n",
    "    else:\n",
    "        predict_grade.append('Re-Appear')"
   ]
  },
  {
   "cell_type": "code",
   "execution_count": 40,
   "metadata": {},
   "outputs": [
    {
     "data": {
      "text/plain": [
       "['B+', 'A', 'B+', 'O', 'A', 'A', 'A', 'A+', 'B', 'A']"
      ]
     },
     "execution_count": 40,
     "metadata": {},
     "output_type": "execute_result"
    }
   ],
   "source": [
    "predict_grade"
   ]
  },
  {
   "cell_type": "markdown",
   "metadata": {},
   "source": [
    "### Finding the Accuracy"
   ]
  },
  {
   "cell_type": "code",
   "execution_count": 41,
   "metadata": {},
   "outputs": [],
   "source": [
    "from sklearn.metrics import accuracy_score"
   ]
  },
  {
   "cell_type": "code",
   "execution_count": 42,
   "metadata": {},
   "outputs": [
    {
     "data": {
      "text/plain": [
       "0.9"
      ]
     },
     "execution_count": 42,
     "metadata": {},
     "output_type": "execute_result"
    }
   ],
   "source": [
    "accuracy_score(y_test,y_pred)"
   ]
  }
 ],
 "metadata": {
  "kernelspec": {
   "display_name": "Python 3",
   "language": "python",
   "name": "python3"
  },
  "language_info": {
   "codemirror_mode": {
    "name": "ipython",
    "version": 3
   },
   "file_extension": ".py",
   "mimetype": "text/x-python",
   "name": "python",
   "nbconvert_exporter": "python",
   "pygments_lexer": "ipython3",
   "version": "3.7.6"
  }
 },
 "nbformat": 4,
 "nbformat_minor": 4
}
